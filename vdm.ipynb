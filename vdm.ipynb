{
  "cells": [
    {
      "cell_type": "code",
      "execution_count": 1,
      "metadata": {},
      "outputs": [],
      "source": [
        "%load_ext autoreload\n",
        "%autoreload 2"
      ]
    },
    {
      "cell_type": "code",
      "execution_count": 2,
      "metadata": {
        "id": "6Xy2X1iAp99q"
      },
      "outputs": [
        {
          "name": "stderr",
          "output_type": "stream",
          "text": [
            "2024-04-12 15:29:20.937376: I tensorflow/core/platform/cpu_feature_guard.cc:210] This TensorFlow binary is optimized to use available CPU instructions in performance-critical operations.\n",
            "To enable the following instructions: AVX2 FMA, in other operations, rebuild TensorFlow with the appropriate compiler flags.\n",
            "2024-04-12 15:29:21.592157: W tensorflow/compiler/tf2tensorrt/utils/py_utils.cc:38] TF-TRT Warning: Could not find TensorRT\n"
          ]
        }
      ],
      "source": [
        "import torch.nn as nn\n",
        "from torch import (Tensor, IntTensor, ones, zeros, optim, save,\n",
        "                    load, randint)\n",
        "from torch import float as tfloat\n",
        "import numpy as np\n",
        "import matplotlib.pyplot as plt\n",
        "from src.diff_utils import (\n",
        "    ConvType, DataType, device, channel_map, conv_map, heat_1d_loss, heat_2d_loss,\n",
        "    num_T, num_X, num_Y, T_max, Y_max, X_max\n",
        ")\n",
        "from src.visual_util import (\n",
        "    sampling_traj, show_img_from_tensor, pick_random_label, denoise, show_img, make_gif\n",
        ")\n",
        "from src.vdm import VDM_Decoder, VDM_Encoder\n",
        "from src.dataset_loader import load_dataset"
      ]
    },
    {
      "cell_type": "code",
      "execution_count": 3,
      "metadata": {
        "id": "owHORNR7qRi0"
      },
      "outputs": [],
      "source": [
        "define_models = False\n",
        "training = False\n",
        "\n",
        "conv_type = ConvType.Conv3d\n",
        "data_type = DataType.heat_2d\n",
        "T = 512\n",
        "if define_models:\n",
        "    e = VDM_Encoder(T, conv_type).to(device)\n",
        "    d = VDM_Decoder(T, num_channels=channel_map[conv_type][data_type], label_dim=3, conv_map=conv_map[conv_type][data_type], conv_type=conv_type).to(device)\n",
        "else:\n",
        "    e = load(f'models/{data_type.name}/model-enc-1500x96-really-good.pkl', map_location=device)\n",
        "    d = load(f'models/{data_type.name}/model-dec-1500x96-really-good.pkl', map_location=device)\n",
        "times = IntTensor(np.linspace(0, T, T+1, dtype=int)).to(device)"
      ]
    },
    {
      "cell_type": "code",
      "execution_count": null,
      "metadata": {
        "id": "lBIksiIrqc9X"
      },
      "outputs": [],
      "source": [
        "base_loss_fn = nn.L1Loss()\n",
        "\n",
        "lr = 2e-3\n",
        "optimizer = optim.Adam(d.parameters(), lr=lr)\n",
        "batch_size = 32\n",
        "epochs = 500 if training else 0\n",
        "\n",
        "args = {\n",
        "    \"lr\": lr,\n",
        "    \"optimizer\": optimizer,\n",
        "    \"batch_size\": batch_size,\n",
        "    \"epochs\": epochs,\n",
        "    \"conv_type\": conv_type,\n",
        "    \"data_type\": data_type,\n",
        "    \"training\": training,\n",
        "    \"num_T\": num_T,\n",
        "    \"num_Y\": num_Y,\n",
        "    \"num_X\": num_X\n",
        "}\n",
        "\n",
        "dataset_dict = load_dataset(args)\n",
        "dataset = dataset_dict['train_dataset']\n",
        "train_dataloader = dataset_dict['train_dataloader']"
      ]
    },
    {
      "cell_type": "markdown",
      "metadata": {},
      "source": [
        "remove"
      ]
    },
    {
      "cell_type": "code",
      "execution_count": null,
      "metadata": {},
      "outputs": [],
      "source": [
        "x1, y1 = dataset[1]"
      ]
    },
    {
      "cell_type": "code",
      "execution_count": null,
      "metadata": {},
      "outputs": [],
      "source": [
        "# make_gif('t.gif', x1[0].cpu().detach().numpy(), 8)\n",
        "\n",
        "# print(x1[None,:,:,:,:].shape)\n",
        "\n",
        "# ls, res = heat_2d_loss(x1[None,:,:,:,:], y1[None,:], Tensor([np.arange(1)]).to(device).T, conv_type, T)\n",
        "# print(y1)\n",
        "# print(ls)\n",
        "# print(res)"
      ]
    },
    {
      "cell_type": "markdown",
      "metadata": {},
      "source": [
        "end remove"
      ]
    },
    {
      "cell_type": "code",
      "execution_count": null,
      "metadata": {
        "colab": {
          "base_uri": "https://localhost:8080/",
          "height": 356
        },
        "id": "gREOjIyLrFDk",
        "outputId": "54e6f74b-3883-49e9-8de9-370cefebd07a"
      },
      "outputs": [],
      "source": [
        "losses = []\n",
        "for epoch in range(epochs):\n",
        "    total_loss = 0\n",
        "\n",
        "    for inp, label in train_dataloader:\n",
        "        optimizer.zero_grad()\n",
        "        \n",
        "        inp = inp.to(device, dtype=tfloat)\n",
        "        times_i = randint(1, T+1, (inp.shape[0],)).to(device)\n",
        "        \n",
        "        x_i, eps = e(inp, times_i) # x_{i}, eps_true ~ q(x_{i} | x_{0})\n",
        "        pred_eps = d(x_i, times_i, label) # eps_theta_{i} ~ p(x_{i-1} | x_{i})\n",
        "\n",
        "        loss = base_loss_fn(pred_eps, eps)\n",
        "\n",
        "        if data_type == DataType.heat_1d:\n",
        "            pred_x_i1 = d.sample(x_i, times_i, label)\n",
        "            loss += heat_1d_loss(pred_x_i1, label, times_i, conv_type, T)\n",
        "        elif data_type == DataType.heat_2d:\n",
        "            pred_x_i1 = d.sample(x_i, times_i, label)\n",
        "            loss += heat_2d_loss(pred_x_i1, label, times_i, conv_type, T)\n",
        "\n",
        "        total_loss += loss.item() * inp.shape[0]\n",
        "\n",
        "        loss.backward()\n",
        "        optimizer.step()\n",
        "    total_loss /= len(train_dataloader)\n",
        "    losses += [total_loss]\n",
        "    \n",
        "    if True:\n",
        "        num_images = 9\n",
        "        plt.subplot(1, num_images+1, 1)\n",
        "        plt.plot(losses)\n",
        "        # plt.show()\n",
        "        if conv_type == ConvType.Conv2d:\n",
        "            traj, cond = sampling_traj(d, e.reparameterize(zeros(x_i[0:1,:,:,:].shape).to(device), ones(x_i[0:1,:,:,:].shape).to(device))[0], T, times, pick_random_label(data_type), num_images)\n",
        "            for i in range(num_images):\n",
        "                plt.subplot(1, num_images+1, i+2)\n",
        "                if data_type == DataType.mnist:\n",
        "                    show_img_from_tensor(traj[i][0])\n",
        "                elif data_type == DataType.heat_1d:\n",
        "                    show_img_from_tensor(traj[i].moveaxis(1,3).reshape(1, x_i.shape[3], x_i.shape[1]))\n",
        "        else:\n",
        "            traj, cond = sampling_traj(d, e.reparameterize(zeros(x_i[0:1,:,:,:,:].shape).to(device), ones(x_i[0:1,:,:,:,:].shape).to(device))[0], T, times, pick_random_label(data_type), num_images)\n",
        "            for i in range(num_images):\n",
        "                plt.subplot(1, num_images+1, i+2)\n",
        "                if data_type == DataType.mnist:\n",
        "                    show_img_from_tensor(traj[i][0,0])\n",
        "                elif data_type == DataType.heat_1d:\n",
        "                    show_img_from_tensor(traj[i][0].moveaxis(1,3).reshape(1, x_i.shape[4], x_i.shape[2]))\n",
        "                elif data_type == DataType.heat_2d:\n",
        "                    show_img_from_tensor(traj[i][0,0,-1].reshape(1, x_i.shape[4], x_i.shape[3]))\n",
        "        plt.show()\n",
        "\n",
        "    print(f\"Condition: {cond.cpu().detach().numpy()[0]}\\n{total_loss=}\\nEpoch {epoch+1} finished.\")\n",
        "\n",
        "    save(e, f'models/{data_type.name}/model-enc.pkl')\n",
        "    save(d, f'models/{data_type.name}/model-dec.pkl')"
      ]
    },
    {
      "cell_type": "code",
      "execution_count": null,
      "metadata": {
        "colab": {
          "base_uri": "https://localhost:8080/",
          "height": 843
        },
        "id": "2zkOVJ18EHXJ",
        "outputId": "929731cc-bccb-43b3-df3c-00e4fb7c8f81"
      },
      "outputs": [],
      "source": [
        "x_test_i, y_test_i = dataset_dict['test_dataset'][0]\n",
        "if data_type == DataType.mnist:\n",
        "    base = Tensor(x_test_i[None,:,:]).to(device, dtype=tfloat)\n",
        "    condition = Tensor(y_test_i).to(device, dtype=tfloat)\n",
        "    # base = Tensor(x_test).to(device, dtype=tfloat)[655]\n",
        "    # x_T, eps = e(base, times[T:T+1])\n",
        "    x_T = zeros((1,1,32,32))\n",
        "elif data_type == DataType.heat_1d:\n",
        "    base = Tensor(x_test_i).to(device, dtype=tfloat)\n",
        "    condition = Tensor(y_test_i).to(device, dtype=tfloat)\n",
        "    x_T = zeros((1,32,1,32))\n",
        "elif data_type == DataType.heat_2d:\n",
        "    base = Tensor(x_test_i).to(device, dtype=tfloat)\n",
        "    condition = Tensor(y_test_i).to(device, dtype=tfloat)\n",
        "    # condition[0] = 1.0\n",
        "    x_T = zeros((1,num_T,32,32))\n",
        "\n",
        "if conv_type == ConvType.Conv3d:\n",
        "    x_T = x_T[None,:,:,:,:]\n",
        "    \n",
        "x_T = e.reparameterize(zeros(x_T.shape).to(device), ones(x_T.shape).to(device))[0] # this is for sampling from pure noise\n",
        "show_img(base[0,-1].reshape(1,32,32))\n",
        "show_img(x_T[0,0,0].reshape(1,32,32))"
      ]
    },
    {
      "cell_type": "code",
      "execution_count": null,
      "metadata": {
        "colab": {
          "base_uri": "https://localhost:8080/",
          "height": 430
        },
        "id": "Vn86ZmvCrPi0",
        "outputId": "1f0a7e76-f67c-40ff-ab01-c3ff1930ab8c"
      },
      "outputs": [],
      "source": [
        "x_T = e.reparameterize(zeros(x_T.shape).to(device), ones(x_T.shape).to(device))[0] # this is for sampling from pure noise\n",
        "show_img(x_T[0,0,0].reshape(1,32,32))\n",
        "\n",
        "x_T = (denoise(d, x_T, T, times, condition.reshape(1,3)) + 1) / 2 # remap from [-1, 1] to [0, 1]\n",
        "show_img(x_T[0,0,-1].reshape(1,32,32))\n",
        "make_gif('visuals/5-512T-1200func-96x32x32-BASE.gif', base[0].cpu().detach().numpy(), num_T, 8)\n",
        "make_gif('visuals/5-512T-1200func-96x32x32-GENERATED.gif', x_T[0,0].cpu().detach().numpy(), num_T, 8)"
      ]
    },
    {
      "cell_type": "code",
      "execution_count": null,
      "metadata": {},
      "outputs": [],
      "source": [
        "num_images = 9\n",
        "if data_type == DataType.mnist:\n",
        "    label = Tensor([[np.random.randint(10)]]).to(device)\n",
        "elif data_type == DataType.heat_1d:\n",
        "    label = Tensor([[np.random.random() * 2]]).to(device)\n",
        "traj, cond = sampling_traj(e.reparameterize(zeros(x_T.shape).to(device), ones(x_T.shape).to(device))[0], T, label, num_images)\n",
        "for i in range(num_images):\n",
        "    plt.subplot(1, num_images+1, i+2)\n",
        "    show_img_from_tensor(traj[i][0,0].swapaxes(0,2).reshape(1,32,32))\n",
        "plt.show()\n",
        "print(cond.cpu().detach().item())"
      ]
    }
  ],
  "metadata": {
    "accelerator": "GPU",
    "colab": {
      "gpuType": "T4",
      "provenance": []
    },
    "kernelspec": {
      "display_name": "Python 3",
      "name": "python3"
    },
    "language_info": {
      "codemirror_mode": {
        "name": "ipython",
        "version": 3
      },
      "file_extension": ".py",
      "mimetype": "text/x-python",
      "name": "python",
      "nbconvert_exporter": "python",
      "pygments_lexer": "ipython3",
      "version": "3.10.4"
    }
  },
  "nbformat": 4,
  "nbformat_minor": 0
}
